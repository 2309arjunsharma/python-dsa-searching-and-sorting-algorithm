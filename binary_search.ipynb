{
 "cells": [
  {
   "cell_type": "code",
   "execution_count": 1,
   "metadata": {},
   "outputs": [
    {
     "name": "stdout",
     "output_type": "stream",
     "text": [
      "2.5\n",
      "2\n"
     ]
    }
   ],
   "source": [
    "print(5/2)\n",
    "print(5//2)"
   ]
  },
  {
   "cell_type": "code",
   "execution_count": 8,
   "metadata": {},
   "outputs": [
    {
     "name": "stdout",
     "output_type": "stream",
     "text": [
      "4\n"
     ]
    }
   ],
   "source": [
    "def binary_search(arr,target):\n",
    "    size=len(arr)\n",
    "    \n",
    "    start=0\n",
    "    end=size-1\n",
    "\n",
    "    while(start<=end):\n",
    "        mid=(start+end)//2\n",
    "\n",
    "        if arr[mid]==target:\n",
    "            return mid\n",
    "        \n",
    "        elif arr[mid]>target:\n",
    "            end=mid-1\n",
    "\n",
    "        elif arr[mid]<target:\n",
    "            start=mid+1\n",
    "\n",
    "    return -1\n",
    "sorted_list=[10,23,35,45,50,70,85]\n",
    "target=50\n",
    "result=binary_search(sorted_list,target)\n",
    "print(result)"
   ]
  }
 ],
 "metadata": {
  "kernelspec": {
   "display_name": "base",
   "language": "python",
   "name": "python3"
  },
  "language_info": {
   "codemirror_mode": {
    "name": "ipython",
    "version": 3
   },
   "file_extension": ".py",
   "mimetype": "text/x-python",
   "name": "python",
   "nbconvert_exporter": "python",
   "pygments_lexer": "ipython3",
   "version": "3.12.4"
  }
 },
 "nbformat": 4,
 "nbformat_minor": 2
}
